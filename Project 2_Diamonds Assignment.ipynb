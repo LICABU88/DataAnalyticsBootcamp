{
 "cells": [
  {
   "cell_type": "code",
   "execution_count": 26,
   "metadata": {
    "collapsed": true
   },
   "outputs": [],
   "source": [
    "#import libraries\n",
    "import pandas as pd\n",
    "import numpy as np"
   ]
  },
  {
   "cell_type": "code",
   "execution_count": 27,
   "metadata": {
    "collapsed": true
   },
   "outputs": [],
   "source": [
    "#load csv file data with headers\n",
    "\n",
    "location = \"datasets/datasets/diamonds.csv\"\n",
    "df = pd.read_csv(location)"
   ]
  },
  {
   "cell_type": "code",
   "execution_count": 28,
   "metadata": {},
   "outputs": [
    {
     "data": {
      "text/html": [
       "<div>\n",
       "<style>\n",
       "    .dataframe thead tr:only-child th {\n",
       "        text-align: right;\n",
       "    }\n",
       "\n",
       "    .dataframe thead th {\n",
       "        text-align: left;\n",
       "    }\n",
       "\n",
       "    .dataframe tbody tr th {\n",
       "        vertical-align: top;\n",
       "    }\n",
       "</style>\n",
       "<table border=\"1\" class=\"dataframe\">\n",
       "  <thead>\n",
       "    <tr style=\"text-align: right;\">\n",
       "      <th></th>\n",
       "      <th>Unnamed: 0</th>\n",
       "      <th>carat</th>\n",
       "      <th>cut</th>\n",
       "      <th>color</th>\n",
       "      <th>clarity</th>\n",
       "      <th>depth</th>\n",
       "      <th>table</th>\n",
       "      <th>price</th>\n",
       "      <th>x</th>\n",
       "      <th>y</th>\n",
       "      <th>z</th>\n",
       "    </tr>\n",
       "  </thead>\n",
       "  <tbody>\n",
       "    <tr>\n",
       "      <th>0</th>\n",
       "      <td>1</td>\n",
       "      <td>0.23</td>\n",
       "      <td>Ideal</td>\n",
       "      <td>E</td>\n",
       "      <td>SI2</td>\n",
       "      <td>61.5</td>\n",
       "      <td>55.0</td>\n",
       "      <td>326</td>\n",
       "      <td>3.95</td>\n",
       "      <td>3.98</td>\n",
       "      <td>2.43</td>\n",
       "    </tr>\n",
       "    <tr>\n",
       "      <th>1</th>\n",
       "      <td>2</td>\n",
       "      <td>0.21</td>\n",
       "      <td>Premium</td>\n",
       "      <td>E</td>\n",
       "      <td>SI1</td>\n",
       "      <td>59.8</td>\n",
       "      <td>61.0</td>\n",
       "      <td>326</td>\n",
       "      <td>3.89</td>\n",
       "      <td>3.84</td>\n",
       "      <td>2.31</td>\n",
       "    </tr>\n",
       "    <tr>\n",
       "      <th>2</th>\n",
       "      <td>3</td>\n",
       "      <td>0.23</td>\n",
       "      <td>Good</td>\n",
       "      <td>E</td>\n",
       "      <td>VS1</td>\n",
       "      <td>56.9</td>\n",
       "      <td>65.0</td>\n",
       "      <td>327</td>\n",
       "      <td>4.05</td>\n",
       "      <td>4.07</td>\n",
       "      <td>2.31</td>\n",
       "    </tr>\n",
       "    <tr>\n",
       "      <th>3</th>\n",
       "      <td>4</td>\n",
       "      <td>0.29</td>\n",
       "      <td>Premium</td>\n",
       "      <td>I</td>\n",
       "      <td>VS2</td>\n",
       "      <td>62.4</td>\n",
       "      <td>58.0</td>\n",
       "      <td>334</td>\n",
       "      <td>4.20</td>\n",
       "      <td>4.23</td>\n",
       "      <td>2.63</td>\n",
       "    </tr>\n",
       "    <tr>\n",
       "      <th>4</th>\n",
       "      <td>5</td>\n",
       "      <td>0.31</td>\n",
       "      <td>Good</td>\n",
       "      <td>J</td>\n",
       "      <td>SI2</td>\n",
       "      <td>63.3</td>\n",
       "      <td>58.0</td>\n",
       "      <td>335</td>\n",
       "      <td>4.34</td>\n",
       "      <td>4.35</td>\n",
       "      <td>2.75</td>\n",
       "    </tr>\n",
       "  </tbody>\n",
       "</table>\n",
       "</div>"
      ],
      "text/plain": [
       "   Unnamed: 0  carat      cut color clarity  depth  table  price     x     y  \\\n",
       "0           1   0.23    Ideal     E     SI2   61.5   55.0    326  3.95  3.98   \n",
       "1           2   0.21  Premium     E     SI1   59.8   61.0    326  3.89  3.84   \n",
       "2           3   0.23     Good     E     VS1   56.9   65.0    327  4.05  4.07   \n",
       "3           4   0.29  Premium     I     VS2   62.4   58.0    334  4.20  4.23   \n",
       "4           5   0.31     Good     J     SI2   63.3   58.0    335  4.34  4.35   \n",
       "\n",
       "      z  \n",
       "0  2.43  \n",
       "1  2.31  \n",
       "2  2.31  \n",
       "3  2.63  \n",
       "4  2.75  "
      ]
     },
     "execution_count": 28,
     "metadata": {},
     "output_type": "execute_result"
    }
   ],
   "source": [
    "df.head() #preview first five rows from diamonds dataset"
   ]
  },
  {
   "cell_type": "code",
   "execution_count": 29,
   "metadata": {},
   "outputs": [],
   "source": [
    "#drop unnamed column since it adds little value to the model\n",
    "df=df.drop('Unnamed: 0', axis = 1)"
   ]
  },
  {
   "cell_type": "code",
   "execution_count": 30,
   "metadata": {},
   "outputs": [
    {
     "data": {
      "text/html": [
       "<div>\n",
       "<style>\n",
       "    .dataframe thead tr:only-child th {\n",
       "        text-align: right;\n",
       "    }\n",
       "\n",
       "    .dataframe thead th {\n",
       "        text-align: left;\n",
       "    }\n",
       "\n",
       "    .dataframe tbody tr th {\n",
       "        vertical-align: top;\n",
       "    }\n",
       "</style>\n",
       "<table border=\"1\" class=\"dataframe\">\n",
       "  <thead>\n",
       "    <tr style=\"text-align: right;\">\n",
       "      <th></th>\n",
       "      <th>carat</th>\n",
       "      <th>depth</th>\n",
       "      <th>table</th>\n",
       "      <th>price</th>\n",
       "      <th>x</th>\n",
       "      <th>y</th>\n",
       "      <th>z</th>\n",
       "    </tr>\n",
       "  </thead>\n",
       "  <tbody>\n",
       "    <tr>\n",
       "      <th>carat</th>\n",
       "      <td>1.000000</td>\n",
       "      <td>0.028224</td>\n",
       "      <td>0.181618</td>\n",
       "      <td>0.921591</td>\n",
       "      <td>0.975094</td>\n",
       "      <td>0.951722</td>\n",
       "      <td>0.953387</td>\n",
       "    </tr>\n",
       "    <tr>\n",
       "      <th>depth</th>\n",
       "      <td>0.028224</td>\n",
       "      <td>1.000000</td>\n",
       "      <td>-0.295779</td>\n",
       "      <td>-0.010647</td>\n",
       "      <td>-0.025289</td>\n",
       "      <td>-0.029341</td>\n",
       "      <td>0.094924</td>\n",
       "    </tr>\n",
       "    <tr>\n",
       "      <th>table</th>\n",
       "      <td>0.181618</td>\n",
       "      <td>-0.295779</td>\n",
       "      <td>1.000000</td>\n",
       "      <td>0.127134</td>\n",
       "      <td>0.195344</td>\n",
       "      <td>0.183760</td>\n",
       "      <td>0.150929</td>\n",
       "    </tr>\n",
       "    <tr>\n",
       "      <th>price</th>\n",
       "      <td>0.921591</td>\n",
       "      <td>-0.010647</td>\n",
       "      <td>0.127134</td>\n",
       "      <td>1.000000</td>\n",
       "      <td>0.884435</td>\n",
       "      <td>0.865421</td>\n",
       "      <td>0.861249</td>\n",
       "    </tr>\n",
       "    <tr>\n",
       "      <th>x</th>\n",
       "      <td>0.975094</td>\n",
       "      <td>-0.025289</td>\n",
       "      <td>0.195344</td>\n",
       "      <td>0.884435</td>\n",
       "      <td>1.000000</td>\n",
       "      <td>0.974701</td>\n",
       "      <td>0.970772</td>\n",
       "    </tr>\n",
       "    <tr>\n",
       "      <th>y</th>\n",
       "      <td>0.951722</td>\n",
       "      <td>-0.029341</td>\n",
       "      <td>0.183760</td>\n",
       "      <td>0.865421</td>\n",
       "      <td>0.974701</td>\n",
       "      <td>1.000000</td>\n",
       "      <td>0.952006</td>\n",
       "    </tr>\n",
       "    <tr>\n",
       "      <th>z</th>\n",
       "      <td>0.953387</td>\n",
       "      <td>0.094924</td>\n",
       "      <td>0.150929</td>\n",
       "      <td>0.861249</td>\n",
       "      <td>0.970772</td>\n",
       "      <td>0.952006</td>\n",
       "      <td>1.000000</td>\n",
       "    </tr>\n",
       "  </tbody>\n",
       "</table>\n",
       "</div>"
      ],
      "text/plain": [
       "          carat     depth     table     price         x         y         z\n",
       "carat  1.000000  0.028224  0.181618  0.921591  0.975094  0.951722  0.953387\n",
       "depth  0.028224  1.000000 -0.295779 -0.010647 -0.025289 -0.029341  0.094924\n",
       "table  0.181618 -0.295779  1.000000  0.127134  0.195344  0.183760  0.150929\n",
       "price  0.921591 -0.010647  0.127134  1.000000  0.884435  0.865421  0.861249\n",
       "x      0.975094 -0.025289  0.195344  0.884435  1.000000  0.974701  0.970772\n",
       "y      0.951722 -0.029341  0.183760  0.865421  0.974701  1.000000  0.952006\n",
       "z      0.953387  0.094924  0.150929  0.861249  0.970772  0.952006  1.000000"
      ]
     },
     "execution_count": 30,
     "metadata": {},
     "output_type": "execute_result"
    }
   ],
   "source": [
    "df.corr() #get correlation chart for all numeric variables"
   ]
  },
  {
   "cell_type": "code",
   "execution_count": 31,
   "metadata": {
    "collapsed": true
   },
   "outputs": [],
   "source": [
    "#Create linear regression model to predict the price of diamonds\n",
    "import statsmodels.formula.api as smf"
   ]
  },
  {
   "cell_type": "code",
   "execution_count": 32,
   "metadata": {
    "collapsed": true
   },
   "outputs": [],
   "source": [
    "#Use all variables in linear regression model\n",
    "result = smf.ols('price ~ carat + cut + color + clarity + depth + table + x + y +z', data=df).fit()"
   ]
  },
  {
   "cell_type": "code",
   "execution_count": 33,
   "metadata": {},
   "outputs": [
    {
     "data": {
      "text/html": [
       "<table class=\"simpletable\">\n",
       "<caption>OLS Regression Results</caption>\n",
       "<tr>\n",
       "  <th>Dep. Variable:</th>          <td>price</td>      <th>  R-squared:         </th>  <td>   0.920</td>  \n",
       "</tr>\n",
       "<tr>\n",
       "  <th>Model:</th>                   <td>OLS</td>       <th>  Adj. R-squared:    </th>  <td>   0.920</td>  \n",
       "</tr>\n",
       "<tr>\n",
       "  <th>Method:</th>             <td>Least Squares</td>  <th>  F-statistic:       </th>  <td>2.688e+04</td> \n",
       "</tr>\n",
       "<tr>\n",
       "  <th>Date:</th>             <td>Wed, 05 Dec 2018</td> <th>  Prob (F-statistic):</th>   <td>  0.00</td>   \n",
       "</tr>\n",
       "<tr>\n",
       "  <th>Time:</th>                 <td>10:05:45</td>     <th>  Log-Likelihood:    </th> <td>-4.5573e+05</td>\n",
       "</tr>\n",
       "<tr>\n",
       "  <th>No. Observations:</th>      <td> 53940</td>      <th>  AIC:               </th>  <td>9.115e+05</td> \n",
       "</tr>\n",
       "<tr>\n",
       "  <th>Df Residuals:</th>          <td> 53916</td>      <th>  BIC:               </th>  <td>9.117e+05</td> \n",
       "</tr>\n",
       "<tr>\n",
       "  <th>Df Model:</th>              <td>    23</td>      <th>                     </th>      <td> </td>     \n",
       "</tr>\n",
       "<tr>\n",
       "  <th>Covariance Type:</th>      <td>nonrobust</td>    <th>                     </th>      <td> </td>     \n",
       "</tr>\n",
       "</table>\n",
       "<table class=\"simpletable\">\n",
       "<tr>\n",
       "          <td></td>            <th>coef</th>     <th>std err</th>      <th>t</th>      <th>P>|t|</th>  <th>[0.025</th>    <th>0.975]</th>  \n",
       "</tr>\n",
       "<tr>\n",
       "  <th>Intercept</th>        <td> 2184.4774</td> <td>  408.197</td> <td>    5.352</td> <td> 0.000</td> <td> 1384.409</td> <td> 2984.546</td>\n",
       "</tr>\n",
       "<tr>\n",
       "  <th>cut[T.Good]</th>      <td>  579.7514</td> <td>   33.592</td> <td>   17.259</td> <td> 0.000</td> <td>  513.911</td> <td>  645.592</td>\n",
       "</tr>\n",
       "<tr>\n",
       "  <th>cut[T.Ideal]</th>     <td>  832.9118</td> <td>   33.407</td> <td>   24.932</td> <td> 0.000</td> <td>  767.433</td> <td>  898.391</td>\n",
       "</tr>\n",
       "<tr>\n",
       "  <th>cut[T.Premium]</th>   <td>  762.1440</td> <td>   32.228</td> <td>   23.649</td> <td> 0.000</td> <td>  698.978</td> <td>  825.310</td>\n",
       "</tr>\n",
       "<tr>\n",
       "  <th>cut[T.Very Good]</th> <td>  726.7826</td> <td>   32.241</td> <td>   22.542</td> <td> 0.000</td> <td>  663.591</td> <td>  789.975</td>\n",
       "</tr>\n",
       "<tr>\n",
       "  <th>color[T.E]</th>       <td> -209.1181</td> <td>   17.893</td> <td>  -11.687</td> <td> 0.000</td> <td> -244.189</td> <td> -174.047</td>\n",
       "</tr>\n",
       "<tr>\n",
       "  <th>color[T.F]</th>       <td> -272.8538</td> <td>   18.093</td> <td>  -15.081</td> <td> 0.000</td> <td> -308.316</td> <td> -237.392</td>\n",
       "</tr>\n",
       "<tr>\n",
       "  <th>color[T.G]</th>       <td> -482.0389</td> <td>   17.716</td> <td>  -27.209</td> <td> 0.000</td> <td> -516.763</td> <td> -447.315</td>\n",
       "</tr>\n",
       "<tr>\n",
       "  <th>color[T.H]</th>       <td> -980.2667</td> <td>   18.836</td> <td>  -52.043</td> <td> 0.000</td> <td>-1017.185</td> <td> -943.348</td>\n",
       "</tr>\n",
       "<tr>\n",
       "  <th>color[T.I]</th>       <td>-1466.2445</td> <td>   21.162</td> <td>  -69.286</td> <td> 0.000</td> <td>-1507.723</td> <td>-1424.766</td>\n",
       "</tr>\n",
       "<tr>\n",
       "  <th>color[T.J]</th>       <td>-2369.3981</td> <td>   26.131</td> <td>  -90.674</td> <td> 0.000</td> <td>-2420.615</td> <td>-2318.181</td>\n",
       "</tr>\n",
       "<tr>\n",
       "  <th>clarity[T.IF]</th>    <td> 5345.1022</td> <td>   51.024</td> <td>  104.757</td> <td> 0.000</td> <td> 5245.095</td> <td> 5445.110</td>\n",
       "</tr>\n",
       "<tr>\n",
       "  <th>clarity[T.SI1]</th>   <td> 3665.4721</td> <td>   43.634</td> <td>   84.005</td> <td> 0.000</td> <td> 3579.949</td> <td> 3750.995</td>\n",
       "</tr>\n",
       "<tr>\n",
       "  <th>clarity[T.SI2]</th>   <td> 2702.5863</td> <td>   43.818</td> <td>   61.677</td> <td> 0.000</td> <td> 2616.702</td> <td> 2788.471</td>\n",
       "</tr>\n",
       "<tr>\n",
       "  <th>clarity[T.VS1]</th>   <td> 4578.3979</td> <td>   44.546</td> <td>  102.779</td> <td> 0.000</td> <td> 4491.087</td> <td> 4665.708</td>\n",
       "</tr>\n",
       "<tr>\n",
       "  <th>clarity[T.VS2]</th>   <td> 4267.2236</td> <td>   43.853</td> <td>   97.306</td> <td> 0.000</td> <td> 4181.270</td> <td> 4353.177</td>\n",
       "</tr>\n",
       "<tr>\n",
       "  <th>clarity[T.VVS1]</th>  <td> 5007.7590</td> <td>   47.160</td> <td>  106.187</td> <td> 0.000</td> <td> 4915.326</td> <td> 5100.192</td>\n",
       "</tr>\n",
       "<tr>\n",
       "  <th>clarity[T.VVS2]</th>  <td> 4950.8141</td> <td>   45.855</td> <td>  107.967</td> <td> 0.000</td> <td> 4860.938</td> <td> 5040.690</td>\n",
       "</tr>\n",
       "<tr>\n",
       "  <th>carat</th>            <td> 1.126e+04</td> <td>   48.628</td> <td>  231.494</td> <td> 0.000</td> <td> 1.12e+04</td> <td> 1.14e+04</td>\n",
       "</tr>\n",
       "<tr>\n",
       "  <th>depth</th>            <td>  -63.8061</td> <td>    4.535</td> <td>  -14.071</td> <td> 0.000</td> <td>  -72.694</td> <td>  -54.918</td>\n",
       "</tr>\n",
       "<tr>\n",
       "  <th>table</th>            <td>  -26.4741</td> <td>    2.912</td> <td>   -9.092</td> <td> 0.000</td> <td>  -32.181</td> <td>  -20.767</td>\n",
       "</tr>\n",
       "<tr>\n",
       "  <th>x</th>                <td>-1008.2611</td> <td>   32.898</td> <td>  -30.648</td> <td> 0.000</td> <td>-1072.741</td> <td> -943.781</td>\n",
       "</tr>\n",
       "<tr>\n",
       "  <th>y</th>                <td>    9.6089</td> <td>   19.333</td> <td>    0.497</td> <td> 0.619</td> <td>  -28.284</td> <td>   47.502</td>\n",
       "</tr>\n",
       "<tr>\n",
       "  <th>z</th>                <td>  -50.1189</td> <td>   33.486</td> <td>   -1.497</td> <td> 0.134</td> <td> -115.752</td> <td>   15.515</td>\n",
       "</tr>\n",
       "</table>\n",
       "<table class=\"simpletable\">\n",
       "<tr>\n",
       "  <th>Omnibus:</th>       <td>14433.356</td> <th>  Durbin-Watson:     </th>  <td>   1.183</td> \n",
       "</tr>\n",
       "<tr>\n",
       "  <th>Prob(Omnibus):</th>  <td> 0.000</td>   <th>  Jarque-Bera (JB):  </th> <td>565680.446</td>\n",
       "</tr>\n",
       "<tr>\n",
       "  <th>Skew:</th>           <td> 0.577</td>   <th>  Prob(JB):          </th>  <td>    0.00</td> \n",
       "</tr>\n",
       "<tr>\n",
       "  <th>Kurtosis:</th>       <td>18.823</td>   <th>  Cond. No.          </th>  <td>7.14e+03</td> \n",
       "</tr>\n",
       "</table>"
      ],
      "text/plain": [
       "<class 'statsmodels.iolib.summary.Summary'>\n",
       "\"\"\"\n",
       "                            OLS Regression Results                            \n",
       "==============================================================================\n",
       "Dep. Variable:                  price   R-squared:                       0.920\n",
       "Model:                            OLS   Adj. R-squared:                  0.920\n",
       "Method:                 Least Squares   F-statistic:                 2.688e+04\n",
       "Date:                Wed, 05 Dec 2018   Prob (F-statistic):               0.00\n",
       "Time:                        10:05:45   Log-Likelihood:            -4.5573e+05\n",
       "No. Observations:               53940   AIC:                         9.115e+05\n",
       "Df Residuals:                   53916   BIC:                         9.117e+05\n",
       "Df Model:                          23                                         \n",
       "Covariance Type:            nonrobust                                         \n",
       "====================================================================================\n",
       "                       coef    std err          t      P>|t|      [0.025      0.975]\n",
       "------------------------------------------------------------------------------------\n",
       "Intercept         2184.4774    408.197      5.352      0.000    1384.409    2984.546\n",
       "cut[T.Good]        579.7514     33.592     17.259      0.000     513.911     645.592\n",
       "cut[T.Ideal]       832.9118     33.407     24.932      0.000     767.433     898.391\n",
       "cut[T.Premium]     762.1440     32.228     23.649      0.000     698.978     825.310\n",
       "cut[T.Very Good]   726.7826     32.241     22.542      0.000     663.591     789.975\n",
       "color[T.E]        -209.1181     17.893    -11.687      0.000    -244.189    -174.047\n",
       "color[T.F]        -272.8538     18.093    -15.081      0.000    -308.316    -237.392\n",
       "color[T.G]        -482.0389     17.716    -27.209      0.000    -516.763    -447.315\n",
       "color[T.H]        -980.2667     18.836    -52.043      0.000   -1017.185    -943.348\n",
       "color[T.I]       -1466.2445     21.162    -69.286      0.000   -1507.723   -1424.766\n",
       "color[T.J]       -2369.3981     26.131    -90.674      0.000   -2420.615   -2318.181\n",
       "clarity[T.IF]     5345.1022     51.024    104.757      0.000    5245.095    5445.110\n",
       "clarity[T.SI1]    3665.4721     43.634     84.005      0.000    3579.949    3750.995\n",
       "clarity[T.SI2]    2702.5863     43.818     61.677      0.000    2616.702    2788.471\n",
       "clarity[T.VS1]    4578.3979     44.546    102.779      0.000    4491.087    4665.708\n",
       "clarity[T.VS2]    4267.2236     43.853     97.306      0.000    4181.270    4353.177\n",
       "clarity[T.VVS1]   5007.7590     47.160    106.187      0.000    4915.326    5100.192\n",
       "clarity[T.VVS2]   4950.8141     45.855    107.967      0.000    4860.938    5040.690\n",
       "carat             1.126e+04     48.628    231.494      0.000    1.12e+04    1.14e+04\n",
       "depth              -63.8061      4.535    -14.071      0.000     -72.694     -54.918\n",
       "table              -26.4741      2.912     -9.092      0.000     -32.181     -20.767\n",
       "x                -1008.2611     32.898    -30.648      0.000   -1072.741    -943.781\n",
       "y                    9.6089     19.333      0.497      0.619     -28.284      47.502\n",
       "z                  -50.1189     33.486     -1.497      0.134    -115.752      15.515\n",
       "==============================================================================\n",
       "Omnibus:                    14433.356   Durbin-Watson:                   1.183\n",
       "Prob(Omnibus):                  0.000   Jarque-Bera (JB):           565680.446\n",
       "Skew:                           0.577   Prob(JB):                         0.00\n",
       "Kurtosis:                      18.823   Cond. No.                     7.14e+03\n",
       "==============================================================================\n",
       "\n",
       "Warnings:\n",
       "[1] Standard Errors assume that the covariance matrix of the errors is correctly specified.\n",
       "[2] The condition number is large, 7.14e+03. This might indicate that there are\n",
       "strong multicollinearity or other numerical problems.\n",
       "\"\"\""
      ]
     },
     "execution_count": 33,
     "metadata": {},
     "output_type": "execute_result"
    }
   ],
   "source": [
    "result.summary() #view summary results"
   ]
  },
  {
   "cell_type": "code",
   "execution_count": 34,
   "metadata": {
    "collapsed": true
   },
   "outputs": [],
   "source": [
    "#With all independent variables being 0, the starting price for a diamond is likely to be around $2,184."
   ]
  },
  {
   "cell_type": "code",
   "execution_count": 35,
   "metadata": {},
   "outputs": [
    {
     "data": {
      "text/html": [
       "<table class=\"simpletable\">\n",
       "<caption>OLS Regression Results</caption>\n",
       "<tr>\n",
       "  <th>Dep. Variable:</th>          <td>price</td>      <th>  R-squared:         </th>  <td>   0.920</td>  \n",
       "</tr>\n",
       "<tr>\n",
       "  <th>Model:</th>                   <td>OLS</td>       <th>  Adj. R-squared:    </th>  <td>   0.920</td>  \n",
       "</tr>\n",
       "<tr>\n",
       "  <th>Method:</th>             <td>Least Squares</td>  <th>  F-statistic:       </th>  <td>2.944e+04</td> \n",
       "</tr>\n",
       "<tr>\n",
       "  <th>Date:</th>             <td>Wed, 05 Dec 2018</td> <th>  Prob (F-statistic):</th>   <td>  0.00</td>   \n",
       "</tr>\n",
       "<tr>\n",
       "  <th>Time:</th>                 <td>10:05:54</td>     <th>  Log-Likelihood:    </th> <td>-4.5573e+05</td>\n",
       "</tr>\n",
       "<tr>\n",
       "  <th>No. Observations:</th>      <td> 53940</td>      <th>  AIC:               </th>  <td>9.115e+05</td> \n",
       "</tr>\n",
       "<tr>\n",
       "  <th>Df Residuals:</th>          <td> 53918</td>      <th>  BIC:               </th>  <td>9.117e+05</td> \n",
       "</tr>\n",
       "<tr>\n",
       "  <th>Df Model:</th>              <td>    21</td>      <th>                     </th>      <td> </td>     \n",
       "</tr>\n",
       "<tr>\n",
       "  <th>Covariance Type:</th>      <td>nonrobust</td>    <th>                     </th>      <td> </td>     \n",
       "</tr>\n",
       "</table>\n",
       "<table class=\"simpletable\">\n",
       "<tr>\n",
       "          <td></td>            <th>coef</th>     <th>std err</th>      <th>t</th>      <th>P>|t|</th>  <th>[0.025</th>    <th>0.975]</th>  \n",
       "</tr>\n",
       "<tr>\n",
       "  <th>Intercept</th>        <td> 2366.0858</td> <td>  390.351</td> <td>    6.061</td> <td> 0.000</td> <td> 1600.995</td> <td> 3131.177</td>\n",
       "</tr>\n",
       "<tr>\n",
       "  <th>cut[T.Good]</th>      <td>  580.2405</td> <td>   33.572</td> <td>   17.283</td> <td> 0.000</td> <td>  514.438</td> <td>  646.043</td>\n",
       "</tr>\n",
       "<tr>\n",
       "  <th>cut[T.Ideal]</th>     <td>  833.2603</td> <td>   33.396</td> <td>   24.951</td> <td> 0.000</td> <td>  767.804</td> <td>  898.716</td>\n",
       "</tr>\n",
       "<tr>\n",
       "  <th>cut[T.Premium]</th>   <td>  762.7586</td> <td>   32.225</td> <td>   23.670</td> <td> 0.000</td> <td>  699.598</td> <td>  825.919</td>\n",
       "</tr>\n",
       "<tr>\n",
       "  <th>cut[T.Very Good]</th> <td>  726.8201</td> <td>   32.212</td> <td>   22.564</td> <td> 0.000</td> <td>  663.685</td> <td>  789.955</td>\n",
       "</tr>\n",
       "<tr>\n",
       "  <th>color[T.E]</th>       <td> -209.2370</td> <td>   17.893</td> <td>  -11.694</td> <td> 0.000</td> <td> -244.307</td> <td> -174.167</td>\n",
       "</tr>\n",
       "<tr>\n",
       "  <th>color[T.F]</th>       <td> -272.8341</td> <td>   18.093</td> <td>  -15.080</td> <td> 0.000</td> <td> -308.296</td> <td> -237.372</td>\n",
       "</tr>\n",
       "<tr>\n",
       "  <th>color[T.G]</th>       <td> -481.9429</td> <td>   17.716</td> <td>  -27.204</td> <td> 0.000</td> <td> -516.667</td> <td> -447.219</td>\n",
       "</tr>\n",
       "<tr>\n",
       "  <th>color[T.H]</th>       <td> -980.1218</td> <td>   18.836</td> <td>  -52.035</td> <td> 0.000</td> <td>-1017.040</td> <td> -943.204</td>\n",
       "</tr>\n",
       "<tr>\n",
       "  <th>color[T.I]</th>       <td>-1466.1815</td> <td>   21.162</td> <td>  -69.283</td> <td> 0.000</td> <td>-1507.660</td> <td>-1424.703</td>\n",
       "</tr>\n",
       "<tr>\n",
       "  <th>color[T.J]</th>       <td>-2369.5038</td> <td>   26.131</td> <td>  -90.678</td> <td> 0.000</td> <td>-2420.720</td> <td>-2318.287</td>\n",
       "</tr>\n",
       "<tr>\n",
       "  <th>clarity[T.IF]</th>    <td> 5344.3381</td> <td>   51.015</td> <td>  104.761</td> <td> 0.000</td> <td> 5244.349</td> <td> 5444.327</td>\n",
       "</tr>\n",
       "<tr>\n",
       "  <th>clarity[T.SI1]</th>   <td> 3664.9053</td> <td>   43.627</td> <td>   84.005</td> <td> 0.000</td> <td> 3579.396</td> <td> 3750.415</td>\n",
       "</tr>\n",
       "<tr>\n",
       "  <th>clarity[T.SI2]</th>   <td> 2702.0771</td> <td>   43.812</td> <td>   61.674</td> <td> 0.000</td> <td> 2616.205</td> <td> 2787.949</td>\n",
       "</tr>\n",
       "<tr>\n",
       "  <th>clarity[T.VS1]</th>   <td> 4577.5892</td> <td>   44.535</td> <td>  102.786</td> <td> 0.000</td> <td> 4490.300</td> <td> 4664.879</td>\n",
       "</tr>\n",
       "<tr>\n",
       "  <th>clarity[T.VS2]</th>   <td> 4266.6117</td> <td>   43.847</td> <td>   97.308</td> <td> 0.000</td> <td> 4180.672</td> <td> 4352.551</td>\n",
       "</tr>\n",
       "<tr>\n",
       "  <th>clarity[T.VVS1]</th>  <td> 5007.0611</td> <td>   47.152</td> <td>  106.190</td> <td> 0.000</td> <td> 4914.643</td> <td> 5099.479</td>\n",
       "</tr>\n",
       "<tr>\n",
       "  <th>clarity[T.VVS2]</th>  <td> 4950.1680</td> <td>   45.847</td> <td>  107.972</td> <td> 0.000</td> <td> 4860.308</td> <td> 5040.028</td>\n",
       "</tr>\n",
       "<tr>\n",
       "  <th>carat</th>            <td> 1.126e+04</td> <td>   48.600</td> <td>  231.626</td> <td> 0.000</td> <td> 1.12e+04</td> <td> 1.14e+04</td>\n",
       "</tr>\n",
       "<tr>\n",
       "  <th>depth</th>            <td>  -66.7693</td> <td>    4.091</td> <td>  -16.322</td> <td> 0.000</td> <td>  -74.787</td> <td>  -58.752</td>\n",
       "</tr>\n",
       "<tr>\n",
       "  <th>table</th>            <td>  -26.4573</td> <td>    2.911</td> <td>   -9.089</td> <td> 0.000</td> <td>  -32.163</td> <td>  -20.752</td>\n",
       "</tr>\n",
       "<tr>\n",
       "  <th>x</th>                <td>-1029.4779</td> <td>   20.549</td> <td>  -50.098</td> <td> 0.000</td> <td>-1069.755</td> <td> -989.201</td>\n",
       "</tr>\n",
       "</table>\n",
       "<table class=\"simpletable\">\n",
       "<tr>\n",
       "  <th>Omnibus:</th>       <td>14433.691</td> <th>  Durbin-Watson:     </th>  <td>   1.183</td> \n",
       "</tr>\n",
       "<tr>\n",
       "  <th>Prob(Omnibus):</th>  <td> 0.000</td>   <th>  Jarque-Bera (JB):  </th> <td>566407.977</td>\n",
       "</tr>\n",
       "<tr>\n",
       "  <th>Skew:</th>           <td> 0.577</td>   <th>  Prob(JB):          </th>  <td>    0.00</td> \n",
       "</tr>\n",
       "<tr>\n",
       "  <th>Kurtosis:</th>       <td>18.833</td>   <th>  Cond. No.          </th>  <td>6.81e+03</td> \n",
       "</tr>\n",
       "</table>"
      ],
      "text/plain": [
       "<class 'statsmodels.iolib.summary.Summary'>\n",
       "\"\"\"\n",
       "                            OLS Regression Results                            \n",
       "==============================================================================\n",
       "Dep. Variable:                  price   R-squared:                       0.920\n",
       "Model:                            OLS   Adj. R-squared:                  0.920\n",
       "Method:                 Least Squares   F-statistic:                 2.944e+04\n",
       "Date:                Wed, 05 Dec 2018   Prob (F-statistic):               0.00\n",
       "Time:                        10:05:54   Log-Likelihood:            -4.5573e+05\n",
       "No. Observations:               53940   AIC:                         9.115e+05\n",
       "Df Residuals:                   53918   BIC:                         9.117e+05\n",
       "Df Model:                          21                                         \n",
       "Covariance Type:            nonrobust                                         \n",
       "====================================================================================\n",
       "                       coef    std err          t      P>|t|      [0.025      0.975]\n",
       "------------------------------------------------------------------------------------\n",
       "Intercept         2366.0858    390.351      6.061      0.000    1600.995    3131.177\n",
       "cut[T.Good]        580.2405     33.572     17.283      0.000     514.438     646.043\n",
       "cut[T.Ideal]       833.2603     33.396     24.951      0.000     767.804     898.716\n",
       "cut[T.Premium]     762.7586     32.225     23.670      0.000     699.598     825.919\n",
       "cut[T.Very Good]   726.8201     32.212     22.564      0.000     663.685     789.955\n",
       "color[T.E]        -209.2370     17.893    -11.694      0.000    -244.307    -174.167\n",
       "color[T.F]        -272.8341     18.093    -15.080      0.000    -308.296    -237.372\n",
       "color[T.G]        -481.9429     17.716    -27.204      0.000    -516.667    -447.219\n",
       "color[T.H]        -980.1218     18.836    -52.035      0.000   -1017.040    -943.204\n",
       "color[T.I]       -1466.1815     21.162    -69.283      0.000   -1507.660   -1424.703\n",
       "color[T.J]       -2369.5038     26.131    -90.678      0.000   -2420.720   -2318.287\n",
       "clarity[T.IF]     5344.3381     51.015    104.761      0.000    5244.349    5444.327\n",
       "clarity[T.SI1]    3664.9053     43.627     84.005      0.000    3579.396    3750.415\n",
       "clarity[T.SI2]    2702.0771     43.812     61.674      0.000    2616.205    2787.949\n",
       "clarity[T.VS1]    4577.5892     44.535    102.786      0.000    4490.300    4664.879\n",
       "clarity[T.VS2]    4266.6117     43.847     97.308      0.000    4180.672    4352.551\n",
       "clarity[T.VVS1]   5007.0611     47.152    106.190      0.000    4914.643    5099.479\n",
       "clarity[T.VVS2]   4950.1680     45.847    107.972      0.000    4860.308    5040.028\n",
       "carat             1.126e+04     48.600    231.626      0.000    1.12e+04    1.14e+04\n",
       "depth              -66.7693      4.091    -16.322      0.000     -74.787     -58.752\n",
       "table              -26.4573      2.911     -9.089      0.000     -32.163     -20.752\n",
       "x                -1029.4779     20.549    -50.098      0.000   -1069.755    -989.201\n",
       "==============================================================================\n",
       "Omnibus:                    14433.691   Durbin-Watson:                   1.183\n",
       "Prob(Omnibus):                  0.000   Jarque-Bera (JB):           566407.977\n",
       "Skew:                           0.577   Prob(JB):                         0.00\n",
       "Kurtosis:                      18.833   Cond. No.                     6.81e+03\n",
       "==============================================================================\n",
       "\n",
       "Warnings:\n",
       "[1] Standard Errors assume that the covariance matrix of the errors is correctly specified.\n",
       "[2] The condition number is large, 6.81e+03. This might indicate that there are\n",
       "strong multicollinearity or other numerical problems.\n",
       "\"\"\""
      ]
     },
     "execution_count": 35,
     "metadata": {},
     "output_type": "execute_result"
    }
   ],
   "source": [
    "#remove y and z variables from regression, not very correlated\n",
    "result = smf.ols('price ~ carat + cut + color + clarity + depth + table + x', data=df).fit()\n",
    "result.summary() #view summary results"
   ]
  },
  {
   "cell_type": "code",
   "execution_count": 36,
   "metadata": {},
   "outputs": [
    {
     "data": {
      "text/html": [
       "<table class=\"simpletable\">\n",
       "<caption>OLS Regression Results</caption>\n",
       "<tr>\n",
       "  <th>Dep. Variable:</th>          <td>price</td>      <th>  R-squared:         </th>  <td>   0.920</td>  \n",
       "</tr>\n",
       "<tr>\n",
       "  <th>Model:</th>                   <td>OLS</td>       <th>  Adj. R-squared:    </th>  <td>   0.920</td>  \n",
       "</tr>\n",
       "<tr>\n",
       "  <th>Method:</th>             <td>Least Squares</td>  <th>  F-statistic:       </th>  <td>2.688e+04</td> \n",
       "</tr>\n",
       "<tr>\n",
       "  <th>Date:</th>             <td>Wed, 05 Dec 2018</td> <th>  Prob (F-statistic):</th>   <td>  0.00</td>   \n",
       "</tr>\n",
       "<tr>\n",
       "  <th>Time:</th>                 <td>10:06:03</td>     <th>  Log-Likelihood:    </th> <td>-4.5573e+05</td>\n",
       "</tr>\n",
       "<tr>\n",
       "  <th>No. Observations:</th>      <td> 53940</td>      <th>  AIC:               </th>  <td>9.115e+05</td> \n",
       "</tr>\n",
       "<tr>\n",
       "  <th>Df Residuals:</th>          <td> 53916</td>      <th>  BIC:               </th>  <td>9.117e+05</td> \n",
       "</tr>\n",
       "<tr>\n",
       "  <th>Df Model:</th>              <td>    23</td>      <th>                     </th>      <td> </td>     \n",
       "</tr>\n",
       "<tr>\n",
       "  <th>Covariance Type:</th>      <td>nonrobust</td>    <th>                     </th>      <td> </td>     \n",
       "</tr>\n",
       "</table>\n",
       "<table class=\"simpletable\">\n",
       "<tr>\n",
       "         <td></td>            <th>coef</th>     <th>std err</th>      <th>t</th>      <th>P>|t|</th>  <th>[0.025</th>    <th>0.975]</th>  \n",
       "</tr>\n",
       "<tr>\n",
       "  <th>cut[Fair]</th>       <td> 2184.4774</td> <td>  408.197</td> <td>    5.352</td> <td> 0.000</td> <td> 1384.409</td> <td> 2984.546</td>\n",
       "</tr>\n",
       "<tr>\n",
       "  <th>cut[Good]</th>       <td> 2764.2288</td> <td>  402.044</td> <td>    6.875</td> <td> 0.000</td> <td> 1976.219</td> <td> 3552.238</td>\n",
       "</tr>\n",
       "<tr>\n",
       "  <th>cut[Ideal]</th>      <td> 3017.3892</td> <td>  394.535</td> <td>    7.648</td> <td> 0.000</td> <td> 2244.097</td> <td> 3790.681</td>\n",
       "</tr>\n",
       "<tr>\n",
       "  <th>cut[Premium]</th>    <td> 2946.6213</td> <td>  398.480</td> <td>    7.395</td> <td> 0.000</td> <td> 2165.597</td> <td> 3727.645</td>\n",
       "</tr>\n",
       "<tr>\n",
       "  <th>cut[Very Good]</th>  <td> 2911.2599</td> <td>  398.604</td> <td>    7.304</td> <td> 0.000</td> <td> 2129.993</td> <td> 3692.526</td>\n",
       "</tr>\n",
       "<tr>\n",
       "  <th>color[T.E]</th>      <td> -209.1181</td> <td>   17.893</td> <td>  -11.687</td> <td> 0.000</td> <td> -244.189</td> <td> -174.047</td>\n",
       "</tr>\n",
       "<tr>\n",
       "  <th>color[T.F]</th>      <td> -272.8538</td> <td>   18.093</td> <td>  -15.081</td> <td> 0.000</td> <td> -308.316</td> <td> -237.392</td>\n",
       "</tr>\n",
       "<tr>\n",
       "  <th>color[T.G]</th>      <td> -482.0389</td> <td>   17.716</td> <td>  -27.209</td> <td> 0.000</td> <td> -516.763</td> <td> -447.315</td>\n",
       "</tr>\n",
       "<tr>\n",
       "  <th>color[T.H]</th>      <td> -980.2667</td> <td>   18.836</td> <td>  -52.043</td> <td> 0.000</td> <td>-1017.185</td> <td> -943.348</td>\n",
       "</tr>\n",
       "<tr>\n",
       "  <th>color[T.I]</th>      <td>-1466.2445</td> <td>   21.162</td> <td>  -69.286</td> <td> 0.000</td> <td>-1507.723</td> <td>-1424.766</td>\n",
       "</tr>\n",
       "<tr>\n",
       "  <th>color[T.J]</th>      <td>-2369.3981</td> <td>   26.131</td> <td>  -90.674</td> <td> 0.000</td> <td>-2420.615</td> <td>-2318.181</td>\n",
       "</tr>\n",
       "<tr>\n",
       "  <th>clarity[T.IF]</th>   <td> 5345.1022</td> <td>   51.024</td> <td>  104.757</td> <td> 0.000</td> <td> 5245.095</td> <td> 5445.110</td>\n",
       "</tr>\n",
       "<tr>\n",
       "  <th>clarity[T.SI1]</th>  <td> 3665.4721</td> <td>   43.634</td> <td>   84.005</td> <td> 0.000</td> <td> 3579.949</td> <td> 3750.995</td>\n",
       "</tr>\n",
       "<tr>\n",
       "  <th>clarity[T.SI2]</th>  <td> 2702.5863</td> <td>   43.818</td> <td>   61.677</td> <td> 0.000</td> <td> 2616.702</td> <td> 2788.471</td>\n",
       "</tr>\n",
       "<tr>\n",
       "  <th>clarity[T.VS1]</th>  <td> 4578.3979</td> <td>   44.546</td> <td>  102.779</td> <td> 0.000</td> <td> 4491.087</td> <td> 4665.708</td>\n",
       "</tr>\n",
       "<tr>\n",
       "  <th>clarity[T.VS2]</th>  <td> 4267.2236</td> <td>   43.853</td> <td>   97.306</td> <td> 0.000</td> <td> 4181.270</td> <td> 4353.177</td>\n",
       "</tr>\n",
       "<tr>\n",
       "  <th>clarity[T.VVS1]</th> <td> 5007.7590</td> <td>   47.160</td> <td>  106.187</td> <td> 0.000</td> <td> 4915.326</td> <td> 5100.192</td>\n",
       "</tr>\n",
       "<tr>\n",
       "  <th>clarity[T.VVS2]</th> <td> 4950.8141</td> <td>   45.855</td> <td>  107.967</td> <td> 0.000</td> <td> 4860.938</td> <td> 5040.690</td>\n",
       "</tr>\n",
       "<tr>\n",
       "  <th>carat</th>           <td> 1.126e+04</td> <td>   48.628</td> <td>  231.494</td> <td> 0.000</td> <td> 1.12e+04</td> <td> 1.14e+04</td>\n",
       "</tr>\n",
       "<tr>\n",
       "  <th>depth</th>           <td>  -63.8061</td> <td>    4.535</td> <td>  -14.071</td> <td> 0.000</td> <td>  -72.694</td> <td>  -54.918</td>\n",
       "</tr>\n",
       "<tr>\n",
       "  <th>table</th>           <td>  -26.4741</td> <td>    2.912</td> <td>   -9.092</td> <td> 0.000</td> <td>  -32.181</td> <td>  -20.767</td>\n",
       "</tr>\n",
       "<tr>\n",
       "  <th>x</th>               <td>-1008.2611</td> <td>   32.898</td> <td>  -30.648</td> <td> 0.000</td> <td>-1072.741</td> <td> -943.781</td>\n",
       "</tr>\n",
       "<tr>\n",
       "  <th>y</th>               <td>    9.6089</td> <td>   19.333</td> <td>    0.497</td> <td> 0.619</td> <td>  -28.284</td> <td>   47.502</td>\n",
       "</tr>\n",
       "<tr>\n",
       "  <th>z</th>               <td>  -50.1189</td> <td>   33.486</td> <td>   -1.497</td> <td> 0.134</td> <td> -115.752</td> <td>   15.515</td>\n",
       "</tr>\n",
       "</table>\n",
       "<table class=\"simpletable\">\n",
       "<tr>\n",
       "  <th>Omnibus:</th>       <td>14433.356</td> <th>  Durbin-Watson:     </th>  <td>   1.183</td> \n",
       "</tr>\n",
       "<tr>\n",
       "  <th>Prob(Omnibus):</th>  <td> 0.000</td>   <th>  Jarque-Bera (JB):  </th> <td>565680.446</td>\n",
       "</tr>\n",
       "<tr>\n",
       "  <th>Skew:</th>           <td> 0.577</td>   <th>  Prob(JB):          </th>  <td>    0.00</td> \n",
       "</tr>\n",
       "<tr>\n",
       "  <th>Kurtosis:</th>       <td>18.823</td>   <th>  Cond. No.          </th>  <td>1.56e+04</td> \n",
       "</tr>\n",
       "</table>"
      ],
      "text/plain": [
       "<class 'statsmodels.iolib.summary.Summary'>\n",
       "\"\"\"\n",
       "                            OLS Regression Results                            \n",
       "==============================================================================\n",
       "Dep. Variable:                  price   R-squared:                       0.920\n",
       "Model:                            OLS   Adj. R-squared:                  0.920\n",
       "Method:                 Least Squares   F-statistic:                 2.688e+04\n",
       "Date:                Wed, 05 Dec 2018   Prob (F-statistic):               0.00\n",
       "Time:                        10:06:03   Log-Likelihood:            -4.5573e+05\n",
       "No. Observations:               53940   AIC:                         9.115e+05\n",
       "Df Residuals:                   53916   BIC:                         9.117e+05\n",
       "Df Model:                          23                                         \n",
       "Covariance Type:            nonrobust                                         \n",
       "===================================================================================\n",
       "                      coef    std err          t      P>|t|      [0.025      0.975]\n",
       "-----------------------------------------------------------------------------------\n",
       "cut[Fair]        2184.4774    408.197      5.352      0.000    1384.409    2984.546\n",
       "cut[Good]        2764.2288    402.044      6.875      0.000    1976.219    3552.238\n",
       "cut[Ideal]       3017.3892    394.535      7.648      0.000    2244.097    3790.681\n",
       "cut[Premium]     2946.6213    398.480      7.395      0.000    2165.597    3727.645\n",
       "cut[Very Good]   2911.2599    398.604      7.304      0.000    2129.993    3692.526\n",
       "color[T.E]       -209.1181     17.893    -11.687      0.000    -244.189    -174.047\n",
       "color[T.F]       -272.8538     18.093    -15.081      0.000    -308.316    -237.392\n",
       "color[T.G]       -482.0389     17.716    -27.209      0.000    -516.763    -447.315\n",
       "color[T.H]       -980.2667     18.836    -52.043      0.000   -1017.185    -943.348\n",
       "color[T.I]      -1466.2445     21.162    -69.286      0.000   -1507.723   -1424.766\n",
       "color[T.J]      -2369.3981     26.131    -90.674      0.000   -2420.615   -2318.181\n",
       "clarity[T.IF]    5345.1022     51.024    104.757      0.000    5245.095    5445.110\n",
       "clarity[T.SI1]   3665.4721     43.634     84.005      0.000    3579.949    3750.995\n",
       "clarity[T.SI2]   2702.5863     43.818     61.677      0.000    2616.702    2788.471\n",
       "clarity[T.VS1]   4578.3979     44.546    102.779      0.000    4491.087    4665.708\n",
       "clarity[T.VS2]   4267.2236     43.853     97.306      0.000    4181.270    4353.177\n",
       "clarity[T.VVS1]  5007.7590     47.160    106.187      0.000    4915.326    5100.192\n",
       "clarity[T.VVS2]  4950.8141     45.855    107.967      0.000    4860.938    5040.690\n",
       "carat            1.126e+04     48.628    231.494      0.000    1.12e+04    1.14e+04\n",
       "depth             -63.8061      4.535    -14.071      0.000     -72.694     -54.918\n",
       "table             -26.4741      2.912     -9.092      0.000     -32.181     -20.767\n",
       "x               -1008.2611     32.898    -30.648      0.000   -1072.741    -943.781\n",
       "y                   9.6089     19.333      0.497      0.619     -28.284      47.502\n",
       "z                 -50.1189     33.486     -1.497      0.134    -115.752      15.515\n",
       "==============================================================================\n",
       "Omnibus:                    14433.356   Durbin-Watson:                   1.183\n",
       "Prob(Omnibus):                  0.000   Jarque-Bera (JB):           565680.446\n",
       "Skew:                           0.577   Prob(JB):                         0.00\n",
       "Kurtosis:                      18.823   Cond. No.                     1.56e+04\n",
       "==============================================================================\n",
       "\n",
       "Warnings:\n",
       "[1] Standard Errors assume that the covariance matrix of the errors is correctly specified.\n",
       "[2] The condition number is large, 1.56e+04. This might indicate that there are\n",
       "strong multicollinearity or other numerical problems.\n",
       "\"\"\""
      ]
     },
     "execution_count": 36,
     "metadata": {},
     "output_type": "execute_result"
    }
   ],
   "source": [
    "#set coefficient to 0\n",
    "result = smf.ols(formula='price ~ carat + cut + color + clarity + depth + table + x + y +z - 1', data=df).fit()\n",
    "result.summary()"
   ]
  },
  {
   "cell_type": "code",
   "execution_count": null,
   "metadata": {
    "collapsed": true
   },
   "outputs": [],
   "source": [
    "#Create visualizations for the diamonds dataset"
   ]
  },
  {
   "cell_type": "code",
   "execution_count": 37,
   "metadata": {
    "collapsed": true
   },
   "outputs": [],
   "source": [
    "#Import libraries\n",
    "import pandas as pd\n",
    "from matplotlib import pyplot as plt\n",
    "import seaborn as sns\n",
    "\n",
    "%matplotlib inline\n",
    "sns.set_style('darkgrid') #my default is \"whitegrid\""
   ]
  },
  {
   "cell_type": "code",
   "execution_count": 38,
   "metadata": {},
   "outputs": [
    {
     "data": {
      "text/html": [
       "<div>\n",
       "<style>\n",
       "    .dataframe thead tr:only-child th {\n",
       "        text-align: right;\n",
       "    }\n",
       "\n",
       "    .dataframe thead th {\n",
       "        text-align: left;\n",
       "    }\n",
       "\n",
       "    .dataframe tbody tr th {\n",
       "        vertical-align: top;\n",
       "    }\n",
       "</style>\n",
       "<table border=\"1\" class=\"dataframe\">\n",
       "  <thead>\n",
       "    <tr style=\"text-align: right;\">\n",
       "      <th></th>\n",
       "      <th>carat</th>\n",
       "      <th>cut</th>\n",
       "      <th>color</th>\n",
       "      <th>clarity</th>\n",
       "      <th>depth</th>\n",
       "      <th>table</th>\n",
       "      <th>price</th>\n",
       "      <th>x</th>\n",
       "      <th>y</th>\n",
       "      <th>z</th>\n",
       "    </tr>\n",
       "  </thead>\n",
       "  <tbody>\n",
       "    <tr>\n",
       "      <th>0</th>\n",
       "      <td>0.23</td>\n",
       "      <td>Ideal</td>\n",
       "      <td>E</td>\n",
       "      <td>SI2</td>\n",
       "      <td>61.5</td>\n",
       "      <td>55.0</td>\n",
       "      <td>326</td>\n",
       "      <td>3.95</td>\n",
       "      <td>3.98</td>\n",
       "      <td>2.43</td>\n",
       "    </tr>\n",
       "    <tr>\n",
       "      <th>1</th>\n",
       "      <td>0.21</td>\n",
       "      <td>Premium</td>\n",
       "      <td>E</td>\n",
       "      <td>SI1</td>\n",
       "      <td>59.8</td>\n",
       "      <td>61.0</td>\n",
       "      <td>326</td>\n",
       "      <td>3.89</td>\n",
       "      <td>3.84</td>\n",
       "      <td>2.31</td>\n",
       "    </tr>\n",
       "    <tr>\n",
       "      <th>2</th>\n",
       "      <td>0.23</td>\n",
       "      <td>Good</td>\n",
       "      <td>E</td>\n",
       "      <td>VS1</td>\n",
       "      <td>56.9</td>\n",
       "      <td>65.0</td>\n",
       "      <td>327</td>\n",
       "      <td>4.05</td>\n",
       "      <td>4.07</td>\n",
       "      <td>2.31</td>\n",
       "    </tr>\n",
       "    <tr>\n",
       "      <th>3</th>\n",
       "      <td>0.29</td>\n",
       "      <td>Premium</td>\n",
       "      <td>I</td>\n",
       "      <td>VS2</td>\n",
       "      <td>62.4</td>\n",
       "      <td>58.0</td>\n",
       "      <td>334</td>\n",
       "      <td>4.20</td>\n",
       "      <td>4.23</td>\n",
       "      <td>2.63</td>\n",
       "    </tr>\n",
       "    <tr>\n",
       "      <th>4</th>\n",
       "      <td>0.31</td>\n",
       "      <td>Good</td>\n",
       "      <td>J</td>\n",
       "      <td>SI2</td>\n",
       "      <td>63.3</td>\n",
       "      <td>58.0</td>\n",
       "      <td>335</td>\n",
       "      <td>4.34</td>\n",
       "      <td>4.35</td>\n",
       "      <td>2.75</td>\n",
       "    </tr>\n",
       "  </tbody>\n",
       "</table>\n",
       "</div>"
      ],
      "text/plain": [
       "   carat      cut color clarity  depth  table  price     x     y     z\n",
       "0   0.23    Ideal     E     SI2   61.5   55.0    326  3.95  3.98  2.43\n",
       "1   0.21  Premium     E     SI1   59.8   61.0    326  3.89  3.84  2.31\n",
       "2   0.23     Good     E     VS1   56.9   65.0    327  4.05  4.07  2.31\n",
       "3   0.29  Premium     I     VS2   62.4   58.0    334  4.20  4.23  2.63\n",
       "4   0.31     Good     J     SI2   63.3   58.0    335  4.34  4.35  2.75"
      ]
     },
     "execution_count": 38,
     "metadata": {},
     "output_type": "execute_result"
    }
   ],
   "source": [
    "df.head()"
   ]
  },
  {
   "cell_type": "code",
   "execution_count": 43,
   "metadata": {},
   "outputs": [
    {
     "data": {
      "text/plain": [
       "<seaborn.axisgrid.FacetGrid at 0x14b19fd3630>"
      ]
     },
     "execution_count": 43,
     "metadata": {},
     "output_type": "execute_result"
    },
    {
     "data": {
      "image/png": "[encoded data removed]",
      "text/plain": [
       "<matplotlib.figure.Figure at 0x14b19b3ec18>"
      ]
     },
     "metadata": {},
     "output_type": "display_data"
    }
   ],
   "source": [
    "#make a scatterplot\n",
    "sns.lmplot(x='table', y='price', data=df)"
   ]
  },
  {
   "cell_type": "code",
   "execution_count": null,
   "metadata": {
    "collapsed": true
   },
   "outputs": [],
   "source": [
    "#We see that the majority of the diamonds' table is between 50 and 70. We notice that that there are a few outliers; some diamonds have a width of the diamond's table above 90 and below 50. "
   ]
  },
  {
   "cell_type": "code",
   "execution_count": 49,
   "metadata": {},
   "outputs": [
    {
     "data": {
      "text/plain": [
       "<matplotlib.axes._subplots.AxesSubplot at 0x14b1de2fa90>"
      ]
     },
     "execution_count": 49,
     "metadata": {},
     "output_type": "execute_result"
    },
    {
     "data": {
      "image/png": "[encoded data removed]",
      "text/plain": [
       "<matplotlib.figure.Figure at 0x14b1e0e75c0>"
      ]
     },
     "metadata": {},
     "output_type": "display_data"
    }
   ],
   "source": [
    "#boxplot showing stats for each variable\n",
    "plt.subplots(figsize=(20,6))\n",
    "sns.boxplot(data=df)"
   ]
  },
  {
   "cell_type": "code",
   "execution_count": 45,
   "metadata": {},
   "outputs": [
    {
     "data": {
      "text/html": [
       "<div>\n",
       "<style>\n",
       "    .dataframe thead tr:only-child th {\n",
       "        text-align: right;\n",
       "    }\n",
       "\n",
       "    .dataframe thead th {\n",
       "        text-align: left;\n",
       "    }\n",
       "\n",
       "    .dataframe tbody tr th {\n",
       "        vertical-align: top;\n",
       "    }\n",
       "</style>\n",
       "<table border=\"1\" class=\"dataframe\">\n",
       "  <thead>\n",
       "    <tr style=\"text-align: right;\">\n",
       "      <th></th>\n",
       "      <th>carat</th>\n",
       "      <th>cut</th>\n",
       "      <th>color</th>\n",
       "      <th>clarity</th>\n",
       "      <th>depth</th>\n",
       "      <th>table</th>\n",
       "      <th>x</th>\n",
       "      <th>y</th>\n",
       "      <th>z</th>\n",
       "    </tr>\n",
       "  </thead>\n",
       "  <tbody>\n",
       "    <tr>\n",
       "      <th>0</th>\n",
       "      <td>0.23</td>\n",
       "      <td>Ideal</td>\n",
       "      <td>E</td>\n",
       "      <td>SI2</td>\n",
       "      <td>61.5</td>\n",
       "      <td>55.0</td>\n",
       "      <td>3.95</td>\n",
       "      <td>3.98</td>\n",
       "      <td>2.43</td>\n",
       "    </tr>\n",
       "    <tr>\n",
       "      <th>1</th>\n",
       "      <td>0.21</td>\n",
       "      <td>Premium</td>\n",
       "      <td>E</td>\n",
       "      <td>SI1</td>\n",
       "      <td>59.8</td>\n",
       "      <td>61.0</td>\n",
       "      <td>3.89</td>\n",
       "      <td>3.84</td>\n",
       "      <td>2.31</td>\n",
       "    </tr>\n",
       "    <tr>\n",
       "      <th>2</th>\n",
       "      <td>0.23</td>\n",
       "      <td>Good</td>\n",
       "      <td>E</td>\n",
       "      <td>VS1</td>\n",
       "      <td>56.9</td>\n",
       "      <td>65.0</td>\n",
       "      <td>4.05</td>\n",
       "      <td>4.07</td>\n",
       "      <td>2.31</td>\n",
       "    </tr>\n",
       "    <tr>\n",
       "      <th>3</th>\n",
       "      <td>0.29</td>\n",
       "      <td>Premium</td>\n",
       "      <td>I</td>\n",
       "      <td>VS2</td>\n",
       "      <td>62.4</td>\n",
       "      <td>58.0</td>\n",
       "      <td>4.20</td>\n",
       "      <td>4.23</td>\n",
       "      <td>2.63</td>\n",
       "    </tr>\n",
       "    <tr>\n",
       "      <th>4</th>\n",
       "      <td>0.31</td>\n",
       "      <td>Good</td>\n",
       "      <td>J</td>\n",
       "      <td>SI2</td>\n",
       "      <td>63.3</td>\n",
       "      <td>58.0</td>\n",
       "      <td>4.34</td>\n",
       "      <td>4.35</td>\n",
       "      <td>2.75</td>\n",
       "    </tr>\n",
       "  </tbody>\n",
       "</table>\n",
       "</div>"
      ],
      "text/plain": [
       "   carat      cut color clarity  depth  table     x     y     z\n",
       "0   0.23    Ideal     E     SI2   61.5   55.0  3.95  3.98  2.43\n",
       "1   0.21  Premium     E     SI1   59.8   61.0  3.89  3.84  2.31\n",
       "2   0.23     Good     E     VS1   56.9   65.0  4.05  4.07  2.31\n",
       "3   0.29  Premium     I     VS2   62.4   58.0  4.20  4.23  2.63\n",
       "4   0.31     Good     J     SI2   63.3   58.0  4.34  4.35  2.75"
      ]
     },
     "execution_count": 45,
     "metadata": {},
     "output_type": "execute_result"
    }
   ],
   "source": [
    "#create a dataframe containing the stats for each diamond \n",
    "#drop price\n",
    "stats_df = df.drop(['price'], axis=1)\n",
    "stats_df.head()"
   ]
  },
  {
   "cell_type": "code",
   "execution_count": 55,
   "metadata": {},
   "outputs": [
    {
     "data": {
      "text/plain": [
       "<matplotlib.axes._subplots.AxesSubplot at 0x14b1e485da0>"
      ]
     },
     "execution_count": 55,
     "metadata": {},
     "output_type": "execute_result"
    },
    {
     "data": {
      "image/png": "[encoded data removed]",
      "text/plain": [
       "<matplotlib.figure.Figure at 0x14b1e48b048>"
      ]
     },
     "metadata": {},
     "output_type": "display_data"
    }
   ],
   "source": [
    "#boxplot for stats\n",
    "plt.subplots(figsize=(25,7))\n",
    "sns.boxplot(data=stats_df)"
   ]
  },
  {
   "cell_type": "code",
   "execution_count": 60,
   "metadata": {},
   "outputs": [
    {
     "data": {
      "text/plain": [
       "<matplotlib.axes._subplots.AxesSubplot at 0x14b1fd15d68>"
      ]
     },
     "execution_count": 60,
     "metadata": {},
     "output_type": "execute_result"
    },
    {
     "data": {
      "image/png": "[encoded data removed]",
      "text/plain": [
       "<matplotlib.figure.Figure at 0x14b1f7088d0>"
      ]
     },
     "metadata": {},
     "output_type": "display_data"
    }
   ],
   "source": [
    "#change size of plot\n",
    "plt.subplots(figsize=(18,8))\n",
    "\n",
    "#violin plot shows the distribution of attack power for each type\n",
    "sns.violinplot(x='cut', y='price', data=df)"
   ]
  },
  {
   "cell_type": "code",
   "execution_count": 64,
   "metadata": {},
   "outputs": [],
   "source": [
    "sns.set_style('whitegrid')"
   ]
  },
  {
   "cell_type": "code",
   "execution_count": 67,
   "metadata": {},
   "outputs": [
    {
     "data": {
      "text/plain": [
       "<matplotlib.axes._subplots.AxesSubplot at 0x14b19e4f0f0>"
      ]
     },
     "execution_count": 67,
     "metadata": {},
     "output_type": "execute_result"
    },
    {
     "data": {
      "image/png": "[encoded data removed]",
      "text/plain": [
       "<matplotlib.figure.Figure at 0x14b19e5a860>"
      ]
     },
     "metadata": {},
     "output_type": "display_data"
    }
   ],
   "source": [
    "#show correlation of stats via heatmap\n",
    "corr = df.corr()\n",
    "\n",
    "sns.heatmap(corr, vmin=-1, annot=True)"
   ]
  },
  {
   "cell_type": "code",
   "execution_count": 68,
   "metadata": {},
   "outputs": [
    {
     "data": {
      "text/plain": [
       "<matplotlib.axes._subplots.AxesSubplot at 0x14b1f9aa6d8>"
      ]
     },
     "execution_count": 68,
     "metadata": {},
     "output_type": "execute_result"
    },
    {
     "data": {
      "image/png": "[encoded data removed]",
      "text/plain": [
       "<matplotlib.figure.Figure at 0x14b1f8f6b38>"
      ]
     },
     "metadata": {},
     "output_type": "display_data"
    }
   ],
   "source": [
    "#create a histogram of the distribution of price\n",
    "sns.distplot(df['price'])"
   ]
  },
  {
   "cell_type": "code",
   "execution_count": 70,
   "metadata": {},
   "outputs": [
    {
     "data": {
      "text/plain": [
       "(array([0, 1, 2, 3, 4, 5, 6]), <a list of 7 Text xticklabel objects>)"
      ]
     },
     "execution_count": 70,
     "metadata": {},
     "output_type": "execute_result"
    },
    {
     "data": {
      "image/png": "[encoded data removed]",
      "text/plain": [
       "<matplotlib.figure.Figure at 0x14b327bca20>"
      ]
     },
     "metadata": {},
     "output_type": "display_data"
    }
   ],
   "source": [
    "#create a bar plot of carat\n",
    "sns.countplot(x='color',\n",
    "              data=df)\n",
    "\n",
    "plt.xticks(rotation=-45)"
   ]
  }
 ],
 "metadata": {
  "kernelspec": {
   "display_name": "Python 3",
   "language": "python",
   "name": "python3"
  },
  "language_info": {
   "codemirror_mode": {
    "name": "ipython",
    "version": 3
   },
   "file_extension": ".py",
   "mimetype": "text/x-python",
   "name": "python",
   "nbconvert_exporter": "python",
   "pygments_lexer": "ipython3",
   "version": "3.6.3"
  }
 },
 "nbformat": 4,
 "nbformat_minor": 2
}
